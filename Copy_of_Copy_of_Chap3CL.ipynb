{
  "nbformat": 4,
  "nbformat_minor": 0,
  "metadata": {
    "colab": {
      "name": "Copy of Copy of Chap3CL.ipynb",
      "provenance": [],
      "include_colab_link": true
    },
    "kernelspec": {
      "name": "python3",
      "display_name": "Python 3"
    }
  },
  "cells": [
    {
      "cell_type": "markdown",
      "metadata": {
        "id": "view-in-github",
        "colab_type": "text"
      },
      "source": [
        "<a href=\"https://colab.research.google.com/github/topherrobin/topherrobin/blob/main/Copy_of_Copy_of_Chap3CL.ipynb\" target=\"_parent\"><img src=\"https://colab.research.google.com/assets/colab-badge.svg\" alt=\"Open In Colab\"/></a>"
      ]
    },
    {
      "cell_type": "markdown",
      "metadata": {
        "id": "gb8XD4tjMfcP"
      },
      "source": [
        "# **list**"
      ]
    },
    {
      "cell_type": "code",
      "metadata": {
        "id": "YgYXL07wVjFB",
        "colab": {
          "base_uri": "https://localhost:8080/"
        },
        "outputId": "58b7720f-87df-4540-ff80-65e64bab4255"
      },
      "source": [
        "cars=['mustang','vw','bmw','volvo' ]\n",
        "print(cars[2])"
      ],
      "execution_count": null,
      "outputs": [
        {
          "output_type": "stream",
          "name": "stdout",
          "text": [
            "bmw\n"
          ]
        }
      ]
    },
    {
      "cell_type": "markdown",
      "metadata": {
        "id": "ai3hFItcMh8F"
      },
      "source": [
        "### **replace**"
      ]
    },
    {
      "cell_type": "code",
      "metadata": {
        "id": "i-SgCHPiAz-q",
        "colab": {
          "base_uri": "https://localhost:8080/"
        },
        "outputId": "22eb3935-2cda-4e42-ec36-2f9b9c20cac2"
      },
      "source": [
        "cars[0]='ford'\n",
        "print(cars)"
      ],
      "execution_count": null,
      "outputs": [
        {
          "output_type": "stream",
          "name": "stdout",
          "text": [
            "['ford', 'vw', 'bmw', 'volvo']\n"
          ]
        }
      ]
    },
    {
      "cell_type": "markdown",
      "metadata": {
        "id": "EFWvzuQeMkcq"
      },
      "source": [
        "### **append**() method"
      ]
    },
    {
      "cell_type": "code",
      "metadata": {
        "id": "D_xwbMtjWHuy",
        "colab": {
          "base_uri": "https://localhost:8080/"
        },
        "outputId": "33b17742-e837-4562-be36-1ead4eb1bd6b"
      },
      "source": [
        "cars.append('toyota')\n",
        "print(cars)"
      ],
      "execution_count": null,
      "outputs": [
        {
          "output_type": "stream",
          "name": "stdout",
          "text": [
            "['mustang', 'vw', 'bmw', 'volvo', 'toyota']\n"
          ]
        }
      ]
    },
    {
      "cell_type": "markdown",
      "metadata": {
        "id": "itec6VH4Mmir"
      },
      "source": [
        "### **insert**() method"
      ]
    },
    {
      "cell_type": "code",
      "metadata": {
        "id": "tJvieWqPWgd6"
      },
      "source": [
        "cars.insert(2,'bronco')\n",
        "print(cars)"
      ],
      "execution_count": null,
      "outputs": []
    },
    {
      "cell_type": "markdown",
      "metadata": {
        "id": "vd1FiOrKMoz3"
      },
      "source": [
        "### **delete**"
      ]
    },
    {
      "cell_type": "code",
      "metadata": {
        "id": "BXFZy2pJYJdn"
      },
      "source": [
        "del cars[-1]\n",
        "print(cars)"
      ],
      "execution_count": null,
      "outputs": []
    },
    {
      "cell_type": "markdown",
      "metadata": {
        "id": "AppCIP2uMqwS"
      },
      "source": [
        "### **remove()** method"
      ]
    },
    {
      "cell_type": "code",
      "metadata": {
        "id": "wwGPs-MyYqDW"
      },
      "source": [
        "x=cars.remove('vw')\n",
        "print(cars)"
      ],
      "execution_count": null,
      "outputs": []
    },
    {
      "cell_type": "markdown",
      "metadata": {
        "id": "2-pLrhtOIvE9"
      },
      "source": [
        "### **pop()** method"
      ]
    },
    {
      "cell_type": "code",
      "metadata": {
        "id": "en77oiFCE7my"
      },
      "source": [
        "cars=['mustang','vw','bmw' ]\n",
        "x=cars.pop(0)\n",
        "print(cars)\n",
        "print(x)"
      ],
      "execution_count": null,
      "outputs": []
    },
    {
      "cell_type": "markdown",
      "metadata": {
        "id": "VQErUVWbJCmh"
      },
      "source": [
        "### **removing/adding**"
      ]
    },
    {
      "cell_type": "code",
      "metadata": {
        "id": "u2rX4wZnBS-V"
      },
      "source": [
        "cars_to_do=['mustang','vw','bmw' ]\n",
        "cars_done=[]\n",
        "xcar=cars_to_do.pop(0)\n",
        "cars_done.append(xcar)\n",
        "print(f'I need to do cars: {cars_to_do}')\n",
        "print(f'I have done cars: {cars_done}')"
      ],
      "execution_count": null,
      "outputs": []
    },
    {
      "cell_type": "code",
      "metadata": {
        "id": "J9cpNdiiD44q"
      },
      "source": [
        "x=cars_to_do.pop(0)\n",
        "cars_done.append(x)\n",
        "print(f'I need to do {len(cars_to_do)} cars: {cars_to_do}')\n",
        "print(f'I have done {len(cars_done)} cars: {cars_done}')\n"
      ],
      "execution_count": null,
      "outputs": []
    },
    {
      "cell_type": "markdown",
      "metadata": {
        "id": "UsGf5_QjIqB3"
      },
      "source": [
        "### **len**() function"
      ]
    },
    {
      "cell_type": "code",
      "metadata": {
        "id": "dIi5vRQhHi79"
      },
      "source": [
        "cars=['mustang','vw','bmw','audi' ]\n",
        "print(len(cars))"
      ],
      "execution_count": null,
      "outputs": []
    },
    {
      "cell_type": "markdown",
      "metadata": {
        "id": "PQxZAw0nIkp2"
      },
      "source": [
        "{len(cars_to_do)}"
      ]
    },
    {
      "cell_type": "markdown",
      "metadata": {
        "id": "WWxI2nM6KOMR"
      },
      "source": [
        "### **split**() method"
      ]
    },
    {
      "cell_type": "code",
      "metadata": {
        "id": "bdge1jF7KUOQ"
      },
      "source": [
        "#a is a string\n",
        "a='Now is the time for all food to come to the table'\n",
        "print(a)\n",
        "print(len(a))\n",
        "b=a.split()\n",
        "print(b)\n",
        "print(len(b))"
      ],
      "execution_count": null,
      "outputs": []
    },
    {
      "cell_type": "markdown",
      "metadata": {
        "id": "jfTcV86EO5nV"
      },
      "source": [
        "### **sort**() method -- permanent change"
      ]
    },
    {
      "cell_type": "code",
      "metadata": {
        "id": "9RUZqftfRlbK"
      },
      "source": [
        "cars=['mustang','VW','bmw' ]\n",
        "cars.sort()\n",
        "print(cars)"
      ],
      "execution_count": null,
      "outputs": []
    },
    {
      "cell_type": "markdown",
      "metadata": {
        "id": "Nt1FrCghNWfm"
      },
      "source": [
        "### **sorted**() function -- temporary change"
      ]
    },
    {
      "cell_type": "code",
      "metadata": {
        "id": "rnGYeZbiSwy8"
      },
      "source": [
        "cars=['mustang','vw','bmw' ]\n",
        "print(sorted(cars))\n",
        "print(cars[0])"
      ],
      "execution_count": null,
      "outputs": []
    },
    {
      "cell_type": "markdown",
      "metadata": {
        "id": "eFSIuivGTTP4"
      },
      "source": [
        "### **reverse**() order"
      ]
    },
    {
      "cell_type": "code",
      "metadata": {
        "id": "UbOFitBjTMci"
      },
      "source": [
        "cars=['mustang','vw','bmw' ]\n",
        "cars.reverse()\n",
        "print(cars[0])"
      ],
      "execution_count": null,
      "outputs": []
    },
    {
      "cell_type": "markdown",
      "metadata": {
        "id": "Th3Z3BROTgkw"
      },
      "source": [
        "### **print**() function: **end**"
      ]
    },
    {
      "cell_type": "code",
      "metadata": {
        "id": "UtQOBLyq0cHw"
      },
      "source": [
        "cars=['mustang','vw','bmw' ]\n",
        "print(cars[0]);print(cars[1]);print(cars[2])"
      ],
      "execution_count": null,
      "outputs": []
    },
    {
      "cell_type": "code",
      "metadata": {
        "id": "XN7fNCD4Te-6"
      },
      "source": [
        "cars=['mustang','vw','bmw' ]\n",
        "print(cars[0], end=', ')\n",
        "print(cars[1], end=', ')\n",
        "print(cars[2])"
      ],
      "execution_count": null,
      "outputs": []
    },
    {
      "cell_type": "code",
      "metadata": {
        "id": "dzedfE4d1V7e"
      },
      "source": [
        "for car in cars:\n",
        "  print(car, end=', ')"
      ],
      "execution_count": null,
      "outputs": []
    }
  ]
}