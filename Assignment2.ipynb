{
  "nbformat": 4,
  "nbformat_minor": 0,
  "metadata": {
    "colab": {
      "name": "Assignment2.ipynb",
      "provenance": [],
      "authorship_tag": "ABX9TyMFaeFk6bS4U8df9akAjzse",
      "include_colab_link": true
    },
    "kernelspec": {
      "name": "python3",
      "display_name": "Python 3"
    },
    "language_info": {
      "name": "python"
    }
  },
  "cells": [
    {
      "cell_type": "markdown",
      "metadata": {
        "id": "view-in-github",
        "colab_type": "text"
      },
      "source": [
        "<a href=\"https://colab.research.google.com/github/topherrobin/topherrobin/blob/main/Assignment2.ipynb\" target=\"_parent\"><img src=\"https://colab.research.google.com/assets/colab-badge.svg\" alt=\"Open In Colab\"/></a>"
      ]
    },
    {
      "cell_type": "markdown",
      "metadata": {
        "id": "RKeiB-h9Nanf"
      },
      "source": [
        "2-9. Favorite Number: Store your favorite number in a variable"
      ]
    },
    {
      "cell_type": "code",
      "metadata": {
        "colab": {
          "base_uri": "https://localhost:8080/"
        },
        "id": "aLkxn8ayNaSw",
        "outputId": "d13a19e2-4b2b-48ae-fc16-53958a20223d"
      },
      "source": [
        "# Store your favorite number in a variable. Then, using that variable, create a message that reveals your favorite number. Print that message\n",
        "fave = 8\n",
        "message = \"My favorite number is \" + str(fave)\n",
        "print(message)"
      ],
      "execution_count": 46,
      "outputs": [
        {
          "output_type": "stream",
          "name": "stdout",
          "text": [
            "My favorite number is 8\n"
          ]
        }
      ]
    },
    {
      "cell_type": "markdown",
      "metadata": {
        "id": "7ZouJIxzLmnX"
      },
      "source": [
        "2-8. Number Eight"
      ]
    },
    {
      "cell_type": "code",
      "metadata": {
        "colab": {
          "base_uri": "https://localhost:8080/"
        },
        "id": "9ultSOwVLmQP",
        "outputId": "b8f0dbd6-896b-47ae-fdc0-b56c40188af2"
      },
      "source": [
        "# Write addition, subtraction, multiplication, and division\n",
        "# operations that each result in the number 8.\n",
        "print (4+4)\n",
        "print (10-2)\n",
        "print (2*4)\n",
        "int (24/3)\n",
        "\n"
      ],
      "execution_count": 45,
      "outputs": [
        {
          "output_type": "stream",
          "name": "stdout",
          "text": [
            "8\n",
            "8\n",
            "8\n"
          ]
        },
        {
          "output_type": "execute_result",
          "data": {
            "text/plain": [
              "8"
            ]
          },
          "metadata": {},
          "execution_count": 45
        }
      ]
    },
    {
      "cell_type": "markdown",
      "metadata": {
        "id": "29TU8hwyGj3g"
      },
      "source": [
        "2-7. Stripping Names"
      ]
    },
    {
      "cell_type": "code",
      "metadata": {
        "colab": {
          "base_uri": "https://localhost:8080/"
        },
        "id": "KVsWjljiGjW2",
        "outputId": "ae6208a1-f685-41be-eda2-428e019f4da4"
      },
      "source": [
        "# Store a person’s name, and include some whitespace\n",
        "# characters at the beginning and end of the name. Make sure you use each\n",
        "# character combination, \"\\t\" and \"\\n\", at least once.\n",
        "first_name = 'Jeff'\n",
        "first_name.rstrip()\n",
        "print (first_name)\n",
        "middle_name = ' \\tMike '\n",
        "middle_name.lstrip()\n",
        "print (middle_name)\n",
        "last_name = ' \\nKeith '\n",
        "last_name.strip()\n",
        "print (last_name)\n",
        "\n",
        "\n",
        "\n"
      ],
      "execution_count": 38,
      "outputs": [
        {
          "output_type": "stream",
          "name": "stdout",
          "text": [
            "Jeff\n",
            " \tMike \n",
            " \n",
            "Keith \n"
          ]
        }
      ]
    },
    {
      "cell_type": "markdown",
      "metadata": {
        "id": "Srm3xBr1FiNz"
      },
      "source": [
        "2-6 Famous Quote 2"
      ]
    },
    {
      "cell_type": "code",
      "metadata": {
        "colab": {
          "base_uri": "https://localhost:8080/"
        },
        "id": "o66kWx9WFhCi",
        "outputId": "e3eeb5c6-01da-4856-b3f6-40b94ec2c8e9"
      },
      "source": [
        "# Repeat Exercise 2-5, but this time store the famous person’s name in a variable called famous_person\n",
        "# and store it in a new variable called message. Print your message\n",
        "famous_person = \"Antoine de Saint-Exupery\"\n",
        "message = famous_person + ' once said, \"Well, I must endure the presence of a few caterpillars if I wish to become acquainted with the butterflies.\"'\n",
        "print (message)"
      ],
      "execution_count": 9,
      "outputs": [
        {
          "output_type": "stream",
          "name": "stdout",
          "text": [
            "Antoine de Saint-Exupery once said, \"Well, I must endure the presence of a few caterpillars if I wish to become acquainted with the butterflies.\"\n"
          ]
        }
      ]
    },
    {
      "cell_type": "markdown",
      "metadata": {
        "id": "r7XqcDewFcbL"
      },
      "source": [
        "2-5 Famous Quote"
      ]
    },
    {
      "cell_type": "code",
      "metadata": {
        "colab": {
          "base_uri": "https://localhost:8080/"
        },
        "id": "VUVOBIs3DTmP",
        "outputId": "cfa25aa0-90f1-4e24-fa77-eea3b11a8ca0"
      },
      "source": [
        "#Find a quote from a famous person you admire. Print the quote and the name of its author\n",
        "message = '\"Well, I must endure the presence of a few caterpillars if I wish to become acquainted with the butterflies.\"'\n",
        "author = \"Antoine de Saint-Exupery\"\n",
        "print ( author + \" once said, \" + message )\n"
      ],
      "execution_count": 7,
      "outputs": [
        {
          "output_type": "stream",
          "name": "stdout",
          "text": [
            "Antoine de Saint-Exupery once said, \"Well, I must endure the presence of a few caterpillars if I wish to become acquainted with the butterflies.\"\n"
          ]
        }
      ]
    },
    {
      "cell_type": "markdown",
      "metadata": {
        "id": "VPF9ttL6CdUp"
      },
      "source": [
        "2-4 Name Cases"
      ]
    },
    {
      "cell_type": "code",
      "metadata": {
        "colab": {
          "base_uri": "https://localhost:8080/"
        },
        "id": "uW8xDVZSCg2A",
        "outputId": "dbbd772f-82ec-46d6-815d-4b87f6d37f3d"
      },
      "source": [
        "#  Store a person’s name in a variable, and then print that person’s name in lowercase, uppercase, and titlecase\n",
        "name = \"damon\"\n",
        "print(name.lower())\n",
        "print(name.upper())\n",
        "print(name.title())"
      ],
      "execution_count": 5,
      "outputs": [
        {
          "output_type": "stream",
          "name": "stdout",
          "text": [
            "damon\n",
            "DAMON\n",
            "Damon\n"
          ]
        }
      ]
    },
    {
      "cell_type": "markdown",
      "metadata": {
        "id": "OQ6iPF56CXbI"
      },
      "source": [
        "2-3 Personal Message"
      ]
    },
    {
      "cell_type": "code",
      "metadata": {
        "colab": {
          "base_uri": "https://localhost:8080/"
        },
        "id": "Zr4O4GeR-60l",
        "outputId": "7c84973f-4705-471c-f469-25adf4fd3f38"
      },
      "source": [
        "#Personal Message: Store a person’s name in a variable, and print a message to that person\n",
        "name = \"Michael\"\n",
        "print(\"Hey, \" + name.title() + \" Welcome to SpiceWorld!\")"
      ],
      "execution_count": 3,
      "outputs": [
        {
          "output_type": "stream",
          "name": "stdout",
          "text": [
            "Hey, Michael Welcome to SpiceWorld!\n"
          ]
        }
      ]
    },
    {
      "cell_type": "markdown",
      "metadata": {
        "id": "yfEy3moX_aRd"
      },
      "source": [
        "Changing case in a string\n"
      ]
    },
    {
      "cell_type": "code",
      "metadata": {
        "colab": {
          "base_uri": "https://localhost:8080/"
        },
        "id": "yeJCKNu7_dWq",
        "outputId": "bd5e9712-c6f4-4c57-cbc2-c1c1147e057a"
      },
      "source": [
        "name = \"ada lovelace\"\n",
        "print(name.title())"
      ],
      "execution_count": 1,
      "outputs": [
        {
          "output_type": "stream",
          "name": "stdout",
          "text": [
            "Ada Lovelace\n"
          ]
        }
      ]
    }
  ]
}