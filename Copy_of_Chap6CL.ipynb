{
  "nbformat": 4,
  "nbformat_minor": 0,
  "metadata": {
    "colab": {
      "name": "Copy of Chap6CL.ipynb",
      "provenance": [],
      "include_colab_link": true
    },
    "kernelspec": {
      "name": "python3",
      "display_name": "Python 3"
    }
  },
  "cells": [
    {
      "cell_type": "markdown",
      "metadata": {
        "id": "view-in-github",
        "colab_type": "text"
      },
      "source": [
        "<a href=\"https://colab.research.google.com/github/topherrobin/topherrobin/blob/main/Copy_of_Chap6CL.ipynb\" target=\"_parent\"><img src=\"https://colab.research.google.com/assets/colab-badge.svg\" alt=\"Open In Colab\"/></a>"
      ]
    },
    {
      "cell_type": "markdown",
      "metadata": {
        "id": "1KE9zTTawPwe"
      },
      "source": [
        "# Chapter 6"
      ]
    },
    {
      "cell_type": "markdown",
      "metadata": {
        "id": "sIZhfbRXwpJH"
      },
      "source": [
        "# Sets:\n",
        "Each item is unique; curly brackets are used."
      ]
    },
    {
      "cell_type": "code",
      "metadata": {
        "id": "5I2-_5EKw2t_"
      },
      "source": [
        "thisset = {\"banana\",\"apple\", \"cherry\",\"plum\"}\n",
        "print(thisset)"
      ],
      "execution_count": null,
      "outputs": []
    },
    {
      "cell_type": "markdown",
      "metadata": {
        "id": "2LAKP0JKxL_D"
      },
      "source": [
        "Sets are not ordered and not indexed."
      ]
    },
    {
      "cell_type": "code",
      "metadata": {
        "id": "LhGotbbLu6yf"
      },
      "source": [
        "print(thisset[0])"
      ],
      "execution_count": null,
      "outputs": []
    },
    {
      "cell_type": "markdown",
      "metadata": {
        "id": "AJhmDdcfxbMF"
      },
      "source": [
        "But you can loop through a set using a *for* loop:"
      ]
    },
    {
      "cell_type": "code",
      "metadata": {
        "id": "_L9IlAYHxmyj"
      },
      "source": [
        "thisset = { \"banana\",\"apple\", \"cherry\",\"plum\"}\n",
        "for x in thisset: print(x)"
      ],
      "execution_count": null,
      "outputs": []
    },
    {
      "cell_type": "markdown",
      "metadata": {
        "id": "PRYpSxXUyGOE"
      },
      "source": [
        "And you can check if a specified value is present in a set, by using the *in* keyword:"
      ]
    },
    {
      "cell_type": "code",
      "metadata": {
        "id": "kbFY9eR1yWoi"
      },
      "source": [
        "print(\"orange\" in thisset)"
      ],
      "execution_count": null,
      "outputs": []
    },
    {
      "cell_type": "markdown",
      "metadata": {
        "id": "LSG0RTYHvgcQ"
      },
      "source": [
        "*List* methods do not work on sets!"
      ]
    },
    {
      "cell_type": "code",
      "metadata": {
        "id": "CdZLukpqv7yj"
      },
      "source": [
        "thisset.append('plum')"
      ],
      "execution_count": null,
      "outputs": []
    },
    {
      "cell_type": "markdown",
      "metadata": {
        "id": "bjAs_Pq0waC7"
      },
      "source": [
        "The sorted() function works by converting the set into a list."
      ]
    },
    {
      "cell_type": "code",
      "metadata": {
        "id": "L0GTfeCqwoCB"
      },
      "source": [
        "thisset = {\"banana\",\"apple\", \"cherry\",\"plum\"}\n",
        "print(thisset)\n",
        "print(sorted(thisset))"
      ],
      "execution_count": null,
      "outputs": []
    },
    {
      "cell_type": "markdown",
      "metadata": {
        "id": "Fu2ux6w73xOK"
      },
      "source": [
        "### *Set* methods: add(), update(), remove(), replace()"
      ]
    },
    {
      "cell_type": "markdown",
      "metadata": {
        "id": "9lNEOuYZ2fT0"
      },
      "source": [
        "Use the add() method to add one item to a set :"
      ]
    },
    {
      "cell_type": "code",
      "metadata": {
        "id": "HlgM4TEU2uqn"
      },
      "source": [
        "thisset = {\"banana\", \"cherry\",'plum'}\n",
        "\n",
        "print(thisset)"
      ],
      "execution_count": null,
      "outputs": []
    },
    {
      "cell_type": "markdown",
      "metadata": {
        "id": "S7yTNHQj8YXl"
      },
      "source": [
        "But note that items in a set are UNIQUE:"
      ]
    },
    {
      "cell_type": "code",
      "metadata": {
        "id": "DMUn9yWE8etG"
      },
      "source": [
        "thisset.add(\"apple\")\n",
        "print(thisset)"
      ],
      "execution_count": null,
      "outputs": []
    },
    {
      "cell_type": "markdown",
      "metadata": {
        "id": "RdFD9O_H2y-s"
      },
      "source": [
        "Use the update() method to add more than one item to a set:"
      ]
    },
    {
      "cell_type": "code",
      "metadata": {
        "id": "3Kuu8ytb212H"
      },
      "source": [
        "thisset = {\"apple\", \"banana\", \"cherry\"}\n",
        "thisset.update([\"orange\"])\n",
        "print(thisset)"
      ],
      "execution_count": null,
      "outputs": []
    },
    {
      "cell_type": "markdown",
      "metadata": {
        "id": "seoURGzC26O4"
      },
      "source": [
        "To remove an item in a set, \n",
        "use the remove() method or the discard() method:"
      ]
    },
    {
      "cell_type": "code",
      "metadata": {
        "id": "a_624Fm7294L"
      },
      "source": [
        "thisset = {\"apple\", \"banana\", \"cherry\"}\n",
        "thisset.remove(\"plum\")\n",
        "#thisset.discard(\"plum\")\n",
        "print(thisset)"
      ],
      "execution_count": null,
      "outputs": []
    },
    {
      "cell_type": "markdown",
      "metadata": {
        "id": "rGVoF6we3A5i"
      },
      "source": [
        "If the item to remove does not exist, remove() will raise an error, but discard() will NOT raise an error."
      ]
    },
    {
      "cell_type": "markdown",
      "metadata": {
        "id": "_igRW96f4anO"
      },
      "source": [
        "# Dictionaries\n",
        "A dictionary is a collection of key-value pairs.\n",
        "*  Each key-value pair consists of a key and a value.\n",
        "*   When you provide a key, Python returns the value associated with that key."
      ]
    },
    {
      "cell_type": "markdown",
      "metadata": {
        "id": "5N_jXifP6iur"
      },
      "source": [
        "Curly braces are used to define a dictionary, and colons connect keys and values:"
      ]
    },
    {
      "cell_type": "code",
      "metadata": {
        "id": "KILAVCzX6v1_"
      },
      "source": [
        "native_language = {'john': 'english'}"
      ],
      "execution_count": null,
      "outputs": []
    },
    {
      "cell_type": "markdown",
      "metadata": {
        "id": "NwA8PJ6K6xVb"
      },
      "source": [
        "Commas separate individual key-value pairs:"
      ]
    },
    {
      "cell_type": "code",
      "metadata": {
        "id": "5j3qvYcM6yD1"
      },
      "source": [
        "native_language = {'john': 'english', 'juan': 'english'}\n",
        "print(native_language)"
      ],
      "execution_count": null,
      "outputs": []
    },
    {
      "cell_type": "markdown",
      "metadata": {
        "id": "q867yoIO-N7d"
      },
      "source": [
        "### Accessing the value associated with an individual key:\n",
        "Give the name of the dictionary and then place the key in a set of square brackets.\n",
        "*   If the key you're asking for is not in the dictionary, an error will occur."
      ]
    },
    {
      "cell_type": "code",
      "metadata": {
        "id": "d4cKsmbq-kJe"
      },
      "source": [
        "native_language = {'john': 'english', 'juan':'spanish'}\n",
        "native_language['conrad'] = 'turkish'\n",
        "print (native_language ['john'])\n",
        "print (native_language ['juan'])\n",
        "print(native_language['conrad'])"
      ],
      "execution_count": null,
      "outputs": []
    },
    {
      "cell_type": "markdown",
      "metadata": {
        "id": "L8WkXaT8-uu8"
      },
      "source": [
        "Or use the get() method to access the value.\n",
        "*   If the key doesn't exist, None is returned.\n",
        "*   You can also specify a default value to use if the key is not in the dictionary.\n"
      ]
    },
    {
      "cell_type": "code",
      "metadata": {
        "id": "g0TKboVt-3Og"
      },
      "source": [
        "language1 = native_language.get('john')\n",
        "language2 = native_language.get('june','No such name')\n",
        "print (language1)\n",
        "print (language2)"
      ],
      "execution_count": null,
      "outputs": []
    },
    {
      "cell_type": "markdown",
      "metadata": {
        "id": "XXXYXByXAvOR"
      },
      "source": [
        "### Adding new key-value pairs:\n",
        "Give the name of the dictionary and the new key in square brackets, and set it equal to the new value."
      ]
    },
    {
      "cell_type": "code",
      "metadata": {
        "id": "a4che8SFA_xu"
      },
      "source": [
        "native_language = {'john': 'english', 'juan':'spanish'}\n",
        "native_language ['jean'] = 'french'\n",
        "native_language ['wan'] = 'chinese'\n",
        "print (native_language)"
      ],
      "execution_count": null,
      "outputs": []
    },
    {
      "cell_type": "markdown",
      "metadata": {
        "id": "A1xLuE2ABJ_7"
      },
      "source": [
        "Adding to an empty dictionary:"
      ]
    },
    {
      "cell_type": "code",
      "metadata": {
        "id": "brqcJ5rqBTgo"
      },
      "source": [
        "native_language  = {}\n",
        "native_language ['john'] = 'english'\n",
        "native_language ['juan'] = 'spanish'\n",
        "print (native_language)"
      ],
      "execution_count": null,
      "outputs": []
    },
    {
      "cell_type": "markdown",
      "metadata": {
        "id": "AJ1fJrKaBucy"
      },
      "source": [
        "To modify the value in a key-value pair, enclose the key in square brackets, then provide the new value for that key."
      ]
    },
    {
      "cell_type": "code",
      "metadata": {
        "id": "2l_ODKZ7CBGp"
      },
      "source": [
        "native_language = {'john': ['english','chinese'], 'juan':'spanish'}\n",
        "native_language ['john'] = 'french'\n",
        "print (native_language['john'])"
      ],
      "execution_count": null,
      "outputs": []
    },
    {
      "cell_type": "markdown",
      "metadata": {
        "id": "nMUPE9phCMTx"
      },
      "source": [
        "Note that keys in a dictionary are UNIQUE!"
      ]
    },
    {
      "cell_type": "markdown",
      "metadata": {
        "id": "LyoRQHUfClGW"
      },
      "source": [
        "### Removing key-value pairs:\n",
        "Use the del keyword and the dictionary name, followed by the key in square brackets.\n",
        "*   This will delete the key and its associated value."
      ]
    },
    {
      "cell_type": "code",
      "metadata": {
        "id": "8zTo0y65DJ75"
      },
      "source": [
        "native_language = {'john': 'english', 'juan':['spanish', 'english']}\n",
        "del native_language ['john']\n",
        "print (native_language)\n",
        "print(native_language['juan'])"
      ],
      "execution_count": null,
      "outputs": []
    },
    {
      "cell_type": "markdown",
      "metadata": {
        "id": "11kDhpLyDl5J"
      },
      "source": [
        "Use the len() function to find a dictionary's length, i.e. the number of key-value pairs in the dictionary:"
      ]
    },
    {
      "cell_type": "code",
      "metadata": {
        "id": "0ac6wv6ADzrU"
      },
      "source": [
        "fav_languages = {'jen': 'python','sarah': 'c','edward': 'ruby','phil': 'python'}\n",
        "num_entries = len(fav_languages)\n",
        "print (num_entries)"
      ],
      "execution_count": null,
      "outputs": []
    },
    {
      "cell_type": "markdown",
      "metadata": {
        "id": "16LHpogTErun"
      },
      "source": [
        "### Looping through a dictionary\n",
        "You can loop through a dictionary in three ways:\n",
        "\n",
        "1.   all the key-value pairs,\n",
        "1.   all the keys, or\n",
        "2.   all the values."
      ]
    },
    {
      "cell_type": "markdown",
      "metadata": {
        "id": "LjqIP4GbGokZ"
      },
      "source": [
        "1. Use the items() method to return a list of key-value pairs.\n",
        "* The items() are keys() and values()."
      ]
    },
    {
      "cell_type": "code",
      "metadata": {
        "id": "qyx0Aek4G3X2"
      },
      "source": [
        "computer_languages = {'jen': 'python','sarah': 'c','edward': 'ruby','phil': 'python'}\n",
        "for name, language in computer_languages.items():\n",
        "\tprint (f\"{name} knows {language}\")"
      ],
      "execution_count": null,
      "outputs": []
    },
    {
      "cell_type": "markdown",
      "metadata": {
        "id": "l6Vf9DGVHTEg"
      },
      "source": [
        "2. Use the keys() method to loop through the keys in a dictionary.\n",
        "* keys() is the default behavior when looping through a dictionary, so it can be omitted.\n",
        "\n"
      ]
    },
    {
      "cell_type": "code",
      "metadata": {
        "id": "tY4LCh9uIby_"
      },
      "source": [
        "for name in computer_languages.keys():\n",
        "\tprint (name, end=', ')\n",
        "print()\n",
        "for name in computer_languages:\n",
        "\tprint (name, end=', ')"
      ],
      "execution_count": null,
      "outputs": []
    },
    {
      "cell_type": "markdown",
      "metadata": {
        "id": "zwMlAfRyJsdO"
      },
      "source": [
        "3. Use the values() method to loop through the values in a dictionary."
      ]
    },
    {
      "cell_type": "code",
      "metadata": {
        "id": "IVE6ypj3KBVp"
      },
      "source": [
        "for language in computer_languages.values():\n",
        "\tprint (language, end=', ')"
      ],
      "execution_count": null,
      "outputs": []
    },
    {
      "cell_type": "markdown",
      "metadata": {
        "id": "IgqmEs_4KUPG"
      },
      "source": [
        "*   Use the sorted() function to show the languages in alphabetical order.\n",
        "*   Use the set() function to eliminate repetitions.\n",
        "*   Combine to order alphabetically and eliminate repetitions.\n",
        "\n",
        "\n"
      ]
    },
    {
      "cell_type": "code",
      "metadata": {
        "id": "mQawGGV1KjYm"
      },
      "source": [
        "computer_languages = {'jen': 'python','sarah': 'c','edward': 'ruby','phil': 'python'}\n",
        "for language in sorted(computer_languages.values()):\n",
        "  print (language, end=', ')\n",
        "print()\n",
        "for language in set(computer_languages.values()):\n",
        "\tprint (language, end=', ')\n",
        "print()\n",
        "print (sorted(set(computer_languages.values())))"
      ],
      "execution_count": null,
      "outputs": []
    },
    {
      "cell_type": "markdown",
      "metadata": {
        "id": "FTrAwZrhJN91"
      },
      "source": [
        "Printing a subset of the dictionary:\n",
        "\n",
        "\n",
        "\n"
      ]
    },
    {
      "cell_type": "code",
      "metadata": {
        "id": "YDa4FAgPMcFe"
      },
      "source": [
        "computer_languages = {'jen': 'python','sarah': 'c','edward': 'ruby','phil': 'python'}\n",
        "subset = ['phil', 'sarah']\n",
        "for name in computer_languages:\n",
        "  if name in subset:\n",
        "    print (name + \": \" + computer_languages[name])"
      ],
      "execution_count": null,
      "outputs": []
    },
    {
      "cell_type": "markdown",
      "metadata": {
        "id": "jnRBq4sjM4uK"
      },
      "source": [
        "Using the items() method:"
      ]
    },
    {
      "cell_type": "code",
      "metadata": {
        "id": "bv9w2QpdM7bo"
      },
      "source": [
        "for name, language in computer_languages.items():\n",
        "  if name in subset:\n",
        "    print (name + \": \" + language)"
      ],
      "execution_count": null,
      "outputs": []
    },
    {
      "cell_type": "markdown",
      "metadata": {
        "id": "7RVaCmVFOJr6"
      },
      "source": [
        "# Nesting:\n",
        "Collecting a collection:\n",
        "1.   Storing a set of dictionaries in a list.\n",
        "2.   Storing lists inside a dictionary.\n",
        "1.   Storing a dictionary inside another dictionary."
      ]
    },
    {
      "cell_type": "markdown",
      "metadata": {
        "id": "SYNrsaA-PpWH"
      },
      "source": [
        "1. Storing a set of dictionaries in a list."
      ]
    },
    {
      "cell_type": "code",
      "metadata": {
        "id": "mgWens4xP5zM"
      },
      "source": [
        "user1 = {'last': 'fermi', 'first': 'enrico', 'username': 'efermi'}\n",
        "user2 = {'last': 'curie', 'first': 'marie', 'username': 'mcurie'}\n",
        "users = [user1,user2]\n",
        "for user in users:\n",
        "\tprint (user)"
      ],
      "execution_count": null,
      "outputs": []
    },
    {
      "cell_type": "markdown",
      "metadata": {
        "id": "brphdir1P-tt"
      },
      "source": [
        "Adding to the list:"
      ]
    },
    {
      "cell_type": "code",
      "metadata": {
        "id": "CeBBozKIQN_y"
      },
      "source": [
        "user3 = {'last': 'einstein', 'first': 'albert', 'username': 'aeinstein'}\n",
        "users.append(user3)\n",
        "print (users)"
      ],
      "execution_count": null,
      "outputs": []
    },
    {
      "cell_type": "markdown",
      "metadata": {
        "id": "kQxs8NDGQoO7"
      },
      "source": [
        "2. Nesting lists in a dictionary.\n",
        "*   Allows you to associate more than one value with each key."
      ]
    },
    {
      "cell_type": "code",
      "metadata": {
        "id": "XsaX0YqARJ3Z"
      },
      "source": [
        "computer_languages = {\n",
        "'jen': ['python', 'ruby'],\n",
        "'sarah': ['c'],\n",
        "'edward': ['ruby', 'go'],\n",
        "'phil': ['python', 'haskell'],\n",
        "}\n",
        "for name, langs in computer_languages.items():\n",
        "\tprint (f\"{name}: \")\n",
        "\tfor lang in langs:\n",
        "\t  print (f\"- {lang}\")"
      ],
      "execution_count": null,
      "outputs": []
    },
    {
      "cell_type": "markdown",
      "metadata": {
        "id": "m3wuQlZBReyd"
      },
      "source": [
        "3. Nesting a dictionary in a dictionary.\n",
        "*   Each value associated with a key is itself a dictionary.\n",
        "*   Example: provide information about a user in a dictionary, and use the user's username as a key in a dictionary of users."
      ]
    },
    {
      "cell_type": "code",
      "metadata": {
        "id": "IaIyCrGHSa05"
      },
      "source": [
        "#@title\n",
        "user1 = {'last': 'fermi', 'first': 'enrico', 'location': 'chicago'}\n",
        "user2 = {'last': 'curie', 'first': 'marie', 'location': 'paris'}\n",
        "users = {'efermi':user1,'mcurie':user2}\n",
        "for x, y in users.items():\n",
        "  print (\"\\nUsername: \" + x)\n",
        "  full_name = y['first'] + \" \" + y['last']\n",
        "  location = y['location']\n",
        "  print (f\"\\tFull name: {full_name.title()}\")\n",
        "  print (f\"\\tLocation: {location.title()}\")"
      ],
      "execution_count": null,
      "outputs": []
    }
  ]
}