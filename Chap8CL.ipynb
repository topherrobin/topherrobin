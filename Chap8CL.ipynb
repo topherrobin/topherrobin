{
  "nbformat": 4,
  "nbformat_minor": 0,
  "metadata": {
    "colab": {
      "name": "Chap8CL.ipynb",
      "provenance": [],
      "include_colab_link": true
    },
    "kernelspec": {
      "name": "python3",
      "display_name": "Python 3"
    }
  },
  "cells": [
    {
      "cell_type": "markdown",
      "metadata": {
        "id": "view-in-github",
        "colab_type": "text"
      },
      "source": [
        "<a href=\"https://colab.research.google.com/github/topherrobin/topherrobin/blob/main/Chap8CL.ipynb\" target=\"_parent\"><img src=\"https://colab.research.google.com/assets/colab-badge.svg\" alt=\"Open In Colab\"/></a>"
      ]
    },
    {
      "cell_type": "markdown",
      "metadata": {
        "id": "tla-CSU95SAU"
      },
      "source": [
        "# Defining a function:\n",
        "1.   first line: def name():\n",
        "2.   any docstring is in triple quotes\n",
        "1.   body is indented one level\n",
        "2.   to call, give name()\n",
        "\n"
      ]
    },
    {
      "cell_type": "code",
      "metadata": {
        "id": "-OGn18PD4XCv",
        "colab": {
          "base_uri": "https://localhost:8080/"
        },
        "outputId": "56f1f7c8-e0a2-4d11-82de-68011575217b"
      },
      "source": [
        "def greet_user(): \n",
        "\t\"\"\"Display a simple greeting.\"\"\" \n",
        "\tprint(\"Hello!\")\n",
        "\tprint(\"Goodbye\")\n",
        "greet_user()\n",
        "greet_user()"
      ],
      "execution_count": null,
      "outputs": [
        {
          "output_type": "stream",
          "name": "stdout",
          "text": [
            "Hello!\n",
            "Goodbye\n",
            "Hello!\n",
            "Goodbye\n"
          ]
        }
      ]
    },
    {
      "cell_type": "markdown",
      "metadata": {
        "id": "Itc9nkYs6ggi"
      },
      "source": [
        "# Providing information to a function:\n",
        "*  Information required by the function is specified in the def name parentheses.\n",
        "*  Information passed to the function is given in the function call. \n",
        "\n",
        "\n"
      ]
    },
    {
      "cell_type": "code",
      "metadata": {
        "id": "jVReG_jT770A",
        "colab": {
          "base_uri": "https://localhost:8080/"
        },
        "outputId": "408a9743-c39a-439b-bace-600df28041b3"
      },
      "source": [
        "def greet_user(name): \n",
        "\t\"\"\"Display a personalized greeting.\"\"\" \n",
        "\tprint(\"Hello, \" + name.title() + \"!\") \n",
        "names:['jesse','sarah']\n",
        "for anme greet_user('jesse')\n",
        "greet_user('jesse')"
      ],
      "execution_count": null,
      "outputs": [
        {
          "output_type": "stream",
          "name": "stdout",
          "text": [
            "Hello, Jesse!\n",
            "Hello, Sarah!\n"
          ]
        }
      ]
    },
    {
      "cell_type": "markdown",
      "metadata": {
        "id": "cL_LPwVI9hdh"
      },
      "source": [
        "# Providing multiple parameters:\n",
        "\n",
        "### positional and keyword *arguments*"
      ]
    },
    {
      "cell_type": "markdown",
      "metadata": {
        "id": "daYATkXUC6LM"
      },
      "source": [
        "**positional arguments**: order of arguments (values) matters"
      ]
    },
    {
      "cell_type": "code",
      "metadata": {
        "id": "-luF8OsKCJTr",
        "colab": {
          "base_uri": "https://localhost:8080/"
        },
        "outputId": "693611de-21f5-494c-a5c3-7c08061c335b"
      },
      "source": [
        "def describe_pet(animal, name):\n",
        "\t\"\"\"Display information about a pet.\"\"\"\n",
        "\tprint(f\"\\nI have a {animal}.\")\n",
        "\tprint(f\"Its name is {name}.\")\n",
        "#describe_pet('hamster', 'harry')\n",
        "describe_pet('willie', 'dog')"
      ],
      "execution_count": null,
      "outputs": [
        {
          "output_type": "stream",
          "text": [
            "\n",
            "I have a willie.\n",
            "Its name is dog.\n"
          ],
          "name": "stdout"
        }
      ]
    },
    {
      "cell_type": "markdown",
      "metadata": {
        "id": "aghf5ubUDB25"
      },
      "source": [
        "**keyword arguments**: uses key:value pairs to pass information"
      ]
    },
    {
      "cell_type": "code",
      "metadata": {
        "id": "TXZw8uTXCaFX",
        "colab": {
          "base_uri": "https://localhost:8080/"
        },
        "outputId": "7454f11b-d951-45bc-a220-709370fe7721"
      },
      "source": [
        "def describe_pet(animal, name):\n",
        "\t\"\"\"Display information about a pet.\"\"\"\n",
        "\tprint(f\"\\nI have a {animal}.\")\n",
        "\tprint(f\"Its name is {name}.\")\n",
        "describe_pet(animal='zebra', name='harry')\n",
        "describe_pet(name='willie', animal='dog')"
      ],
      "execution_count": null,
      "outputs": [
        {
          "output_type": "stream",
          "text": [
            "\n",
            "I have a zebra.\n",
            "Its name is harry.\n",
            "\n",
            "I have a dog.\n",
            "Its name is willie.\n"
          ],
          "name": "stdout"
        }
      ]
    },
    {
      "cell_type": "markdown",
      "metadata": {
        "id": "bmN4ckYu8AYp"
      },
      "source": [
        "### **function call**"
      ]
    },
    {
      "cell_type": "markdown",
      "metadata": {
        "id": "rc5KFaroDmpI"
      },
      "source": [
        "# Setting a default value for a funtion"
      ]
    },
    {
      "cell_type": "code",
      "metadata": {
        "id": "CHuaZHkiEPAJ",
        "colab": {
          "base_uri": "https://localhost:8080/"
        },
        "outputId": "6ffca9ba-22e0-470b-dfc9-d79b101f4ea5"
      },
      "source": [
        "def make_pizza(topping='bacon'): \n",
        "  \"\"\"Make a single-topping pizza.\"\"\" \n",
        "  print(f'Have a {topping} pizza!')\n",
        "  \n",
        "make_pizza()\n",
        "make_pizza('pepperoni')\n"
      ],
      "execution_count": 1,
      "outputs": [
        {
          "output_type": "stream",
          "name": "stdout",
          "text": [
            "Have a bacon pizza!\n",
            "Have a pepperoni pizza!\n"
          ]
        }
      ]
    },
    {
      "cell_type": "markdown",
      "metadata": {
        "id": "OrJh_04rEd-F"
      },
      "source": [
        "Parameters with default values must be listed after parameters without default values in the function's definition"
      ]
    },
    {
      "cell_type": "code",
      "metadata": {
        "id": "jH_PqPPEEsrC",
        "colab": {
          "base_uri": "https://localhost:8080/"
        },
        "outputId": "c98407ed-1399-4740-ce1e-f5fdca714def"
      },
      "source": [
        "def make_pizza(customer_name, topping='bacon'):\n",
        "  \"\"\"Make a single-topping pizza.\"\"\" \n",
        "  print(\"Have a \" + topping + \" pizza!\")\n",
        "  print(f'{customer_name}, have a {topping} pizza!')\n",
        "\n",
        "make_pizza('Jesse')\n",
        "make_pizza('Jesse','mushroom')"
      ],
      "execution_count": 2,
      "outputs": [
        {
          "output_type": "stream",
          "name": "stdout",
          "text": [
            "Have a bacon pizza!\n",
            "Jesse, have a bacon pizza!\n",
            "Have a mushroom pizza!\n",
            "Jesse, have a mushroom pizza!\n"
          ]
        }
      ]
    },
    {
      "cell_type": "markdown",
      "metadata": {
        "id": "BlETHdNwF7L8"
      },
      "source": [
        "# Returning a value or a set of values"
      ]
    },
    {
      "cell_type": "code",
      "metadata": {
        "id": "yY7HHJE9GSo8",
        "colab": {
          "base_uri": "https://localhost:8080/"
        },
        "outputId": "c45865ba-9944-45e1-98a4-0741d1951606"
      },
      "source": [
        "def add_numbers(x, y): \n",
        "\t\"\"\"Add two numbers and return the sum.\"\"\" \n",
        "\treturn x + y \n",
        "apple = add_numbers(3, 5)\n",
        "print (apple)"
      ],
      "execution_count": null,
      "outputs": [
        {
          "output_type": "stream",
          "text": [
            "8\n"
          ],
          "name": "stdout"
        }
      ]
    },
    {
      "cell_type": "markdown",
      "metadata": {
        "id": "W2dB52lzG-QX"
      },
      "source": [
        "## An asterisk* is used to pass an arbitrary number of arguments."
      ]
    },
    {
      "cell_type": "code",
      "metadata": {
        "id": "uyoWfcLuHMDK",
        "colab": {
          "base_uri": "https://localhost:8080/"
        },
        "outputId": "12580c49-e716-4c77-cd93-8a6c7fe91abd"
      },
      "source": [
        "def add_numbers(*numbers): \n",
        "\t\"\"\"Add several numbers and return the sum.\"\"\" \n",
        "\tx=0\n",
        "\tfor y in numbers:\n",
        "\t\tx = x + y\n",
        "\treturn x\n",
        "  \n",
        "apple = add_numbers(1, 2, 3, 4,) \n",
        "print (apple)"
      ],
      "execution_count": null,
      "outputs": [
        {
          "output_type": "stream",
          "text": [
            "10\n"
          ],
          "name": "stdout"
        }
      ]
    },
    {
      "cell_type": "markdown",
      "metadata": {
        "id": "A64WUme-IQj3"
      },
      "source": [
        "# Returning a list or a dictionary"
      ]
    },
    {
      "cell_type": "code",
      "metadata": {
        "id": "Hxql4-o8I-mC",
        "colab": {
          "base_uri": "https://localhost:8080/"
        },
        "outputId": "23d44202-1fa7-483a-f74b-1df7de165922"
      },
      "source": [
        "def build_person(first, last):\n",
        "\t\"\"\"Return a dictionary of information about a person.\"\"\"\n",
        "\tperson = [first, last]\n",
        "\treturn person\n",
        "\t\n",
        "musician = build_person('jimi','hendrix')\n",
        "print(musician)"
      ],
      "execution_count": null,
      "outputs": [
        {
          "output_type": "stream",
          "text": [
            "['jimi', 'hendrix']\n"
          ],
          "name": "stdout"
        }
      ]
    },
    {
      "cell_type": "markdown",
      "metadata": {
        "id": "JUsJpu29JQ-4"
      },
      "source": [
        "## Returning a dictionary with optional values"
      ]
    },
    {
      "cell_type": "code",
      "metadata": {
        "id": "x1PtOKzSJTB4",
        "colab": {
          "base_uri": "https://localhost:8080/"
        },
        "outputId": "b53cf8da-b7a2-4164-dd3f-09ce64ae597d"
      },
      "source": [
        "def build_person(first, last, age=None):\n",
        "\t\"\"\"Return a dictionary of information about a person.\"\"\"\n",
        "\tperson = {'first': first, 'last': last}\n",
        "\tif age:\n",
        "\t\tperson['age'] = age\n",
        "\treturn person\n",
        "\n",
        "musician = build_person('jimi', 'hendrix', 27)\n",
        "print(musician)"
      ],
      "execution_count": null,
      "outputs": [
        {
          "output_type": "stream",
          "text": [
            "{'first': 'jimi', 'last': 'hendrix', 'age': 27}\n"
          ],
          "name": "stdout"
        }
      ]
    },
    {
      "cell_type": "markdown",
      "metadata": {
        "id": "cdTGrWlfOtyL"
      },
      "source": [
        "# Passing a list to a function"
      ]
    },
    {
      "cell_type": "code",
      "metadata": {
        "id": "ZnChNr-wO2dI",
        "colab": {
          "base_uri": "https://localhost:8080/"
        },
        "outputId": "16a57396-eac7-4c3e-d67e-869e093bab20"
      },
      "source": [
        "def greet_users(names):\n",
        "     \"\"\"Print a simple greeting to everyone.\"\"\"\n",
        "     for name in names:\n",
        "        msg = f\"Hello, {name.title()}!\"\n",
        "        print(msg)\n",
        " \n",
        "usernames = ['hannah', 'ty', 'margot']\n",
        "greet_users(usernames)"
      ],
      "execution_count": null,
      "outputs": [
        {
          "output_type": "stream",
          "text": [
            "Hello, Hannah!\n",
            "Hello, Ty!\n",
            "Hello, Margot!\n"
          ],
          "name": "stdout"
        }
      ]
    },
    {
      "cell_type": "markdown",
      "metadata": {
        "id": "bfuYQ3yGRzsM"
      },
      "source": [
        "### Changes the function makes to the list will affect the original list."
      ]
    },
    {
      "cell_type": "code",
      "metadata": {
        "id": "wgzeECe0R8Ei",
        "colab": {
          "base_uri": "https://localhost:8080/"
        },
        "outputId": "d722cc66-da48-48ca-f648-3896e79fb554"
      },
      "source": [
        "def greet_users(names):\n",
        "\t\"\"\"Print a simple greeting to everyone.\"\"\"\n",
        "\twhile names:\n",
        "\t\tname=names.pop()\n",
        "\t\tmsg = f\"Hello, {name.title()}!\"\n",
        "\t\tprint(msg)\n",
        "\n",
        "usernames = ['hannah', 'ty', 'margot']\n",
        "greet_users(usernames)\n",
        "print(usernames)"
      ],
      "execution_count": null,
      "outputs": [
        {
          "output_type": "stream",
          "text": [
            "Hello, Margot!\n",
            "Hello, Ty!\n",
            "Hello, Hannah!\n",
            "[]\n"
          ],
          "name": "stdout"
        }
      ]
    },
    {
      "cell_type": "markdown",
      "metadata": {
        "id": "r2W5aM3ESgOP"
      },
      "source": [
        "### To prevent a function from modifying a list, pass a copy of the list as an argument."
      ]
    },
    {
      "cell_type": "code",
      "metadata": {
        "id": "mjtS_uuUSqHp"
      },
      "source": [
        "greet_users(usernames[:])"
      ],
      "execution_count": null,
      "outputs": []
    },
    {
      "cell_type": "markdown",
      "metadata": {
        "id": "EJjEVH-mTDtE"
      },
      "source": [
        "## Using the * operator to collect an arbitrary number of arguments."
      ]
    },
    {
      "cell_type": "code",
      "metadata": {
        "id": "FA9P-oZxTK5S",
        "colab": {
          "base_uri": "https://localhost:8080/"
        },
        "outputId": "d8bc23e6-ade7-40c5-a239-d235dafe2e77"
      },
      "source": [
        "def make_pizza(size, *toppings):\n",
        "\t\"\"\"Make a pizza.\"\"\"\n",
        "\tprint(f\"\\nMaking a {size} pizza.\")\n",
        "\tprint(\"Toppings:\")\n",
        "\tfor topping in toppings:\n",
        "\t\tprint(f\"- {topping}\")\n",
        "  \n",
        "# Make three pizzas with different toppings.\n",
        "make_pizza('small', 'pepperoni')\n",
        "make_pizza('large', 'bacon bits', 'pineapple')\n",
        "make_pizza('medium', 'mushrooms', 'peppers',\n",
        "'onions', 'extra cheese')"
      ],
      "execution_count": null,
      "outputs": [
        {
          "output_type": "stream",
          "text": [
            "\n",
            "Making a small pizza.\n",
            "Toppings:\n",
            "- pepperoni\n",
            "\n",
            "Making a large pizza.\n",
            "Toppings:\n",
            "- bacon bits\n",
            "- pineapple\n",
            "\n",
            "Making a medium pizza.\n",
            "Toppings:\n",
            "- mushrooms\n",
            "- peppers\n",
            "- onions\n",
            "- extra cheese\n"
          ],
          "name": "stdout"
        }
      ]
    },
    {
      "cell_type": "markdown",
      "metadata": {
        "id": "he_YqVsQTZZ1"
      },
      "source": [
        "## Using the ** operator to collect an arbitrary number of keyword arguments"
      ]
    },
    {
      "cell_type": "code",
      "metadata": {
        "id": "x3OV9PljTpFY",
        "colab": {
          "base_uri": "https://localhost:8080/"
        },
        "outputId": "82fdf6cd-6f0e-490a-f1f0-a77c79d7f5d9"
      },
      "source": [
        "def build_profile(first, last, **user_info):\n",
        "\t\"\"\"Build a dictionary for a user.\"\"\"\n",
        "\tperson = {'first': first, 'last': last}\n",
        "\tfor x,y in user_info.items():\n",
        "\t\tperson[x]=y\n",
        "\treturn person\n",
        "\n",
        "# Create two users with different kinds of information.\n",
        "\n",
        "user_0 = build_profile('albert', 'einstein', location='princeton')\n",
        "user_1 = build_profile('marie', 'curie', location='paris', field='chemistry')\n",
        "\n",
        "print(user_0)\n",
        "print(user_1)"
      ],
      "execution_count": null,
      "outputs": [
        {
          "output_type": "stream",
          "text": [
            "{'first': 'albert', 'last': 'einstein', 'location': 'princeton', 'field': 'physics'}\n",
            "{'first': 'marie', 'last': 'curie', 'location': 'paris', 'field': 'chemistry'}\n"
          ],
          "name": "stdout"
        }
      ]
    }
  ]
}