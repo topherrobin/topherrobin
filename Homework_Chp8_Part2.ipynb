{
  "nbformat": 4,
  "nbformat_minor": 0,
  "metadata": {
    "colab": {
      "name": "Homework_Chp8_Part2.ipynb",
      "provenance": [],
      "collapsed_sections": [],
      "authorship_tag": "ABX9TyPVu0Mng0oAKddUYdVvJXak",
      "include_colab_link": true
    },
    "kernelspec": {
      "name": "python3",
      "display_name": "Python 3"
    },
    "language_info": {
      "name": "python"
    }
  },
  "cells": [
    {
      "cell_type": "markdown",
      "metadata": {
        "id": "view-in-github",
        "colab_type": "text"
      },
      "source": [
        "<a href=\"https://colab.research.google.com/github/topherrobin/topherrobin/blob/main/Homework_Chp8_Part2.ipynb\" target=\"_parent\"><img src=\"https://colab.research.google.com/assets/colab-badge.svg\" alt=\"Open In Colab\"/></a>"
      ]
    },
    {
      "cell_type": "markdown",
      "metadata": {
        "id": "enevvshS8acL"
      },
      "source": [
        "Make a list called friends that contains several of your friends. Create a function called message() which prints a message (such as “Hello there, Jim, how are you today?”) to each friend.  Now pass the list of friends to the function. "
      ]
    },
    {
      "cell_type": "code",
      "metadata": {
        "colab": {
          "base_uri": "https://localhost:8080/"
        },
        "id": "5oFY_ZBC6AZ1",
        "outputId": "8d966544-7eda-43cd-b66c-9275b6922f04"
      },
      "source": [
        "def message (names):\n",
        " \"\"\"Print a simple greeting to each user in the list.\"\"\"\n",
        " for name in names:\n",
        "    msg = \"Hello there, \" + name.title() + \", how are you today?\"\n",
        "    print(msg)\n",
        "usernames = ['nicole', 'mayur', 'chris' ,'mike']\n",
        "message(usernames)  "
      ],
      "execution_count": 28,
      "outputs": [
        {
          "output_type": "stream",
          "name": "stdout",
          "text": [
            "Hello there, Nicole, how are you today?\n",
            "Hello there, Mayur, how are you today?\n",
            "Hello there, Chris, how are you today?\n",
            "Hello there, Mike, how are you today?\n"
          ]
        }
      ]
    },
    {
      "cell_type": "markdown",
      "metadata": {
        "id": "_EV1oAOPpzNx"
      },
      "source": [
        "Write a function called send_messages() that prints a text message to each friend and moves each friend from the friends list to a new list called sent_messages as it’s printed. After calling the function, print both of your lists to make sure the friends were moved correctly from friends to sent_messages. "
      ]
    },
    {
      "cell_type": "code",
      "metadata": {
        "colab": {
          "base_uri": "https://localhost:8080/"
        },
        "id": "h9e80Xrap0gj",
        "outputId": "fab4893e-bd72-4e61-a7a3-8f29e5cf4492"
      },
      "source": [
        "def send_messages(friends):\n",
        "  \"\"\" Print a text message to each friend\"\"\"\n",
        "  print(\"Hey friends: \")\n",
        "  for friend in friends:\n",
        "    print (friend)\n",
        "\n",
        "  \n",
        "def text_messages(friends, sent_messages):\n",
        "  \"\"\"Move friends to a new list after texting\"\"\"\n",
        "  print (\"\\nI've texted:\")\n",
        "  while friends:\n",
        "    current_friend = friends.pop()\n",
        "    print (current_friend)\n",
        "    sent_messages.append(current_friend)\n",
        "\n",
        "friends = [ 'adam' , 'toni', 'toby']\n",
        "send_messages(friends)\n",
        "\n",
        "sent_messages = []\n",
        "text_messages(friends, sent_messages)\n",
        "\n",
        "print(\"\\nShow me the lists\")\n",
        "print(friends)\n",
        "print(sent_messages)\n",
        "\n",
        "\n",
        "\n",
        "\n",
        "\n",
        "\n"
      ],
      "execution_count": 67,
      "outputs": [
        {
          "output_type": "stream",
          "name": "stdout",
          "text": [
            "Hey friends: \n",
            "adam\n",
            "toni\n",
            "toby\n",
            "\n",
            "I've texted:\n",
            "toby\n",
            "toni\n",
            "adam\n",
            "\n",
            "Show me the lists\n",
            "[]\n",
            "['toby', 'toni', 'adam']\n"
          ]
        }
      ]
    },
    {
      "cell_type": "markdown",
      "metadata": {
        "id": "gSLATySPw74I"
      },
      "source": [
        "Start with your work from Exercise 8-8. Call the function send_messages() with a copy of the list of friends. After calling the function, print both of your lists to show that the original list of friends has not changed. "
      ]
    },
    {
      "cell_type": "code",
      "metadata": {
        "colab": {
          "base_uri": "https://localhost:8080/"
        },
        "id": "tlaatm3fxDJI",
        "outputId": "6bda2ad0-9669-415b-ddc1-673ecb8aa1f2"
      },
      "source": [
        "def send_messages(friends):\n",
        "  \"\"\" Print a text message to each friend\"\"\"\n",
        "  print(\"Hey friends: \")\n",
        "  for friend in friends:\n",
        "    print (friend)\n",
        "\n",
        "  \n",
        "def text_messages(friends, sent_messages):\n",
        "  \"\"\"Move friends to a new list after texting\"\"\"\n",
        "  print (\"\\nI've texted:\")\n",
        "  while friends:\n",
        "    current_friend = friends.pop()\n",
        "    print (current_friend)\n",
        "    sent_messages.append(current_friend)\n",
        "\n",
        "friends = [ 'adam' , 'toni', 'toby']\n",
        "send_messages(friends)\n",
        "\n",
        "sent_messages = []\n",
        "text_messages(friends [:], sent_messages)\n",
        "\n",
        "print(\"\\nShow me the lists\")\n",
        "print(friends)\n",
        "print(sent_messages)\n",
        "            "
      ],
      "execution_count": 71,
      "outputs": [
        {
          "output_type": "stream",
          "name": "stdout",
          "text": [
            "Hey friends: \n",
            "adam\n",
            "toni\n",
            "toby\n",
            "\n",
            "I've texted:\n",
            "toby\n",
            "toni\n",
            "adam\n",
            "\n",
            "Show me the lists\n",
            "['adam', 'toni', 'toby']\n",
            "['toby', 'toni', 'adam']\n"
          ]
        }
      ]
    },
    {
      "cell_type": "markdown",
      "metadata": {
        "id": "91baJoWT5gSg"
      },
      "source": [
        "Write a function that accepts a list of items that a person wants for breakfast, for example, eggs, toast and coffee. The function should have one parameter that collects as many items as the function call provides, and it should print a summary of the items that are being ordered. Call the function three times, using a different number of arguments each time. "
      ]
    },
    {
      "cell_type": "code",
      "metadata": {
        "colab": {
          "base_uri": "https://localhost:8080/"
        },
        "id": "_DAdsvF-5mQd",
        "outputId": "beff9610-1c35-46e2-c4f2-133ff13cb6e9"
      },
      "source": [
        "def make_breakfast(*items):\n",
        "    \"\"\"Make breakfast with the given items.\"\"\"\n",
        "    print(\"\\nI'll make you a breakfast with:\")\n",
        "    for item in items:\n",
        "        print(f\"  {item} ,\")\n",
        "    print(\"Your breakfast is ready!\")\n",
        "\n",
        "make_breakfast('eggs', 'pancake', 'white toast', 'sausage')\n",
        "make_breakfast('waffle', 'scrambled eggs', 'cheese')\n",
        "make_breakfast('tofu', 'goat cheese','coffee')"
      ],
      "execution_count": 76,
      "outputs": [
        {
          "output_type": "stream",
          "name": "stdout",
          "text": [
            "\n",
            "I'll make you a breakfast with:\n",
            "  eggs ,\n",
            "  pancake ,\n",
            "  white toast ,\n",
            "  sausage ,\n",
            "Your breakfast is ready!\n",
            "\n",
            "I'll make you a breakfast with:\n",
            "  waffle ,\n",
            "  scrambled eggs ,\n",
            "  cheese ,\n",
            "Your breakfast is ready!\n",
            "\n",
            "I'll make you a breakfast with:\n",
            "  tofu ,\n",
            "  goat cheese ,\n",
            "  coffee ,\n",
            "Your breakfast is ready!\n"
          ]
        }
      ]
    },
    {
      "cell_type": "markdown",
      "metadata": {
        "id": "L0vM9AWd7FXi"
      },
      "source": [
        "Write a function called make_car() that collects information about a car and stores it in a dictionary. The function should always receive a manufacturer and a model name. It should then accept an arbitrary number of keyword arguments. Call the function with the required information and two other name-value pairs, such as a color or an optional feature such as a radio."
      ]
    },
    {
      "cell_type": "code",
      "metadata": {
        "colab": {
          "base_uri": "https://localhost:8080/"
        },
        "id": "pG8PgcA27GKS",
        "outputId": "9292ffce-ad19-44d9-c80a-ff7be42d016f"
      },
      "source": [
        "def make_car(manufacturer, model, **options):\n",
        "    \"\"\"Make a dictionary representing a car.\"\"\"\n",
        "    car_dict = {\n",
        "        'manufacturer': manufacturer.title(),\n",
        "        'model': model.title(),\n",
        "        }\n",
        "    for option, value in options.items():\n",
        "        car_dict[option] = value\n",
        "\n",
        "    return car_dict\n",
        "\n",
        "my_rx = make_car('lexus', 'rx400h', color='green', hybrid_battery=True)\n",
        "print(my_rx)\n",
        "\n",
        "my_new_volvo = make_car('volvo', 'xc60', color='black', stereo='bower wilkins', safety='lane assist, ''collission warning,' ' bending lights')\n",
        "print(my_new_volvo)"
      ],
      "execution_count": 83,
      "outputs": [
        {
          "output_type": "stream",
          "name": "stdout",
          "text": [
            "{'manufacturer': 'Lexus', 'model': 'Rx400H', 'color': 'green', 'hybrid_battery': True}\n",
            "{'manufacturer': 'Volvo', 'model': 'Xc60', 'color': 'black', 'stereo': 'bower wilkins', 'safety': 'lane assist, collission warning, bending lights'}\n"
          ]
        }
      ]
    },
    {
      "cell_type": "markdown",
      "metadata": {
        "id": "7BNWeFQV9ZhA"
      },
      "source": [
        "Store the function make_car() in a module called car.py.  Import the function and call the function using each of these approaches: a)\timport module_name\n",
        "b)\tfrom module_name import function_name\n",
        "c)\tfrom module_name import function_name as fn\n",
        "d)\timport module_name as mn"
      ]
    },
    {
      "cell_type": "code",
      "metadata": {
        "colab": {
          "base_uri": "https://localhost:8080/"
        },
        "id": "i1QAuJl0-SCz",
        "outputId": "1dfe74a4-06b0-4960-e139-fe479f1e4e70"
      },
      "source": [
        "import car\n",
        "my_ride = make_car('vespa', 'gts300')\n",
        "print(my_ride)\n",
        "\n",
        "from car import make_car\n",
        "my_vespa = make_car('vespa', 'lx150')\n",
        "print(my_vespa)\n",
        "\n",
        "from car import make_car as fn\n",
        "my_new_volvo = make_car('volvo', 'xc60', color='black', stereo='bower wilkins', safety='lane assist, ''collission warning,' ' bending lights')\n",
        "print(my_new_volvo)\n",
        "\n",
        "import car as mn\n",
        "mn_first_car = make_car('honda','civic')\n",
        "print(mn_first_car)\n",
        "\n",
        "\n"
      ],
      "execution_count": 100,
      "outputs": [
        {
          "output_type": "stream",
          "name": "stdout",
          "text": [
            "{'manufacturer': 'Vespa', 'model': 'Gts300'}\n",
            "{'manufacturer': 'Vespa', 'model': 'Lx150'}\n",
            "{'manufacturer': 'Volvo', 'model': 'Xc60', 'color': 'black', 'stereo': 'bower wilkins', 'safety': 'lane assist, collission warning, bending lights'}\n",
            "{'manufacturer': 'Honda', 'model': 'Civic'}\n"
          ]
        }
      ]
    }
  ]
}